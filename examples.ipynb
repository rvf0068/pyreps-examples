{
  "cells": [
    {
      "cell_type": "markdown",
      "metadata": {},
      "source": "Examples of the use of pyreps\n=============================\n\n"
    },
    {
      "cell_type": "markdown",
      "metadata": {},
      "source": [
        "## matrix.py\n\n"
      ]
    },
    {
      "cell_type": "code",
      "execution_count": 1,
      "metadata": {},
      "outputs": [
        {
          "name": "stdout",
          "output_type": "stream",
          "text": [
            "{Permutation(2): 6,\n Permutation(0, 1, 2): 0,\n Permutation(0, 2, 1): 0,\n Permutation(1, 2): 0,\n Permutation(2)(0, 1): 0,\n Permutation(0, 2): 0}"
          ]
        }
      ],
      "source": [
        "from sympy.combinatorics.named_groups import SymmetricGroup\nfrom pyreps.matrix import regular_representation\nrr = regular_representation(SymmetricGroup(3))\nrr.character()"
      ]
    }
  ],
  "metadata": {
    "org": null,
    "kernelspec": {
      "display_name": "Python 3",
      "language": "python",
      "name": "python3"
    },
    "language_info": {
      "codemirror_mode": {
        "name": "ipython",
        "version": 3
      },
      "file_extension": ".py",
      "mimetype": "text/x-python",
      "name": "python",
      "nbconvert_exporter": "python",
      "pygments_lexer": "ipython3",
      "version": "3.5.2"
    }
  },
  "nbformat": 4,
  "nbformat_minor": 0
}